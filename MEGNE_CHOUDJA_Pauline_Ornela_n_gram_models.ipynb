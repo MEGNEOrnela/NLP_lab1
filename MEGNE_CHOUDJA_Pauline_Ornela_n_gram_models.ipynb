{
  "cells": [
    {
      "cell_type": "markdown",
      "metadata": {
        "id": "view-in-github",
        "colab_type": "text"
      },
      "source": [
        "<a href=\"https://colab.research.google.com/github/MEGNEOrnela/NLP_week1/blob/main/MEGNE_CHOUDJA_Pauline_Ornela_n_gram_models.ipynb\" target=\"_parent\"><img src=\"https://colab.research.google.com/assets/colab-badge.svg\" alt=\"Open In Colab\"/></a>"
      ]
    },
    {
      "cell_type": "markdown",
      "metadata": {
        "id": "kq334FfetOQ4"
      },
      "source": [
        "\n",
        "<h1 style=\"font-family:verdana;font-size:300%;text-align:center;background-color:#f2f2f2;color:#0d0d0d\">AMMI NLP - Review sessions</h1>\n",
        "\n",
        "<h1 style=\"font-family:verdana;font-size:180%;text-align:Center;color:#993333\"> Lab 3: n-gram models </h1>"
      ]
    },
    {
      "cell_type": "markdown",
      "metadata": {
        "id": "qIcurJyNtOQ5"
      },
      "source": [
        "**Big thanks to Amr Khalifa who improved this lab and made it to a Jupyter Notebook!**"
      ]
    },
    {
      "cell_type": "code",
      "source": [
        "from google.colab import drive\n",
        "drive.mount('/content/drive')"
      ],
      "metadata": {
        "colab": {
          "base_uri": "https://localhost:8080/"
        },
        "id": "ULgmkLbjuLFh",
        "outputId": "43580c84-07b6-445e-d30e-453f9c570903"
      },
      "execution_count": 1,
      "outputs": [
        {
          "output_type": "stream",
          "name": "stdout",
          "text": [
            "Mounted at /content/drive\n"
          ]
        }
      ]
    },
    {
      "cell_type": "code",
      "execution_count": 2,
      "metadata": {
        "id": "FG5LD8ictOQ6"
      },
      "outputs": [],
      "source": [
        "import io, sys, math, re\n",
        "from collections import defaultdict\n",
        "import numpy as np"
      ]
    },
    {
      "cell_type": "code",
      "execution_count": 3,
      "metadata": {
        "id": "SB4CH3YytOQ6"
      },
      "outputs": [],
      "source": [
        "# data_loader\n",
        "def load_data(filename):\n",
        "    '''\n",
        "    parameters:\n",
        "    filename (string): datafile\n",
        "    \n",
        "    Returns:\n",
        "    data (list of lists): each list is a sentence of the text \n",
        "    vocab (dictionary): {word: no of times it appears in the text}\n",
        "    '''\n",
        "    fin = io.open(filename, 'r', encoding='utf-8')\n",
        "    data = []\n",
        "    vocab = defaultdict(lambda:0)\n",
        "    for line in fin:\n",
        "        sentence = line.split()\n",
        "        data.append(sentence)\n",
        "        for word in sentence:\n",
        "            vocab[word] += 1\n",
        "    return data, vocab"
      ]
    },
    {
      "cell_type": "code",
      "execution_count": 4,
      "metadata": {
        "id": "_ysBBxistOQ6",
        "colab": {
          "base_uri": "https://localhost:8080/"
        },
        "outputId": "444265f3-1483-4525-ae60-61de1357f595"
      },
      "outputs": [
        {
          "output_type": "stream",
          "name": "stdout",
          "text": [
            "load training set..\n",
            "\n",
            "\n",
            "['<s>', 'my', 'fathers', \"don't\", 'speak', 'dutch.', '</s>']\n",
            "\n",
            "\n",
            "how : 107\n",
            "load validation set\n"
          ]
        }
      ],
      "source": [
        "\n",
        "print(\"load training set..\")\n",
        "print(\"\\n\")\n",
        "train_data, vocab = load_data(\"/content/drive/MyDrive/session3/train1.txt\")\n",
        "print(train_data[0])\n",
        "print(\"\\n\")\n",
        "print(\"how :\",vocab['how'])\n",
        "print(\"load validation set\")\n",
        "valid_data, _ = load_data(\"/content/drive/MyDrive/session3/valid1.txt\")\n"
      ]
    },
    {
      "cell_type": "code",
      "source": [
        "def remove_rare_words(data, vocab, mincount = 1):\n",
        "    '''\n",
        "    Parameters:\n",
        "    data (list of lists): each list is a sentence of the text \n",
        "    vocab (dictionary): {word: no of times it appears in the text}\n",
        "    mincount(int): the minimum count \n",
        "    \n",
        "    Returns: \n",
        "    data_with_unk(list of lists): data after replacing rare words with <unk> token\n",
        "    '''\n",
        "    # replace words in data that are not in the vocab \n",
        "    # or have a count that is below mincount\n",
        "    data_with_unk = []\n",
        "\n",
        "    ## FILL CODE\n",
        "    for words in data:\n",
        "      word_lst=[]\n",
        "      for word in words:\n",
        "        if word in vocab.keys() and vocab[word]>mincount:\n",
        "          word_lst.append(word)\n",
        "        else:\n",
        "          word_lst.append(\"<unk>\")\n",
        "        data_with_unk.append(word_lst)\n",
        "    \n",
        "    return data_with_unk"
      ],
      "metadata": {
        "id": "jO0B9iOhT7WA"
      },
      "execution_count": 5,
      "outputs": []
    },
    {
      "cell_type": "code",
      "execution_count": 6,
      "metadata": {
        "id": "YqD246ektOQ7",
        "colab": {
          "base_uri": "https://localhost:8080/"
        },
        "outputId": "0b39a57e-2497-4d65-f71f-f84021bb80f8"
      },
      "outputs": [
        {
          "output_type": "stream",
          "name": "stdout",
          "text": [
            "remove rare words\n",
            "['<s>', 'my', '<unk>', \"don't\", 'speak', '<unk>', '</s>']\n"
          ]
        }
      ],
      "source": [
        "print(\"remove rare words\")\n",
        "train_data = remove_rare_words(train_data, vocab, mincount = 1)\n",
        "valid_data = remove_rare_words(valid_data, vocab, mincount = 1)\n",
        "# train_data\n",
        "print(train_data[0])"
      ]
    },
    {
      "cell_type": "code",
      "source": [
        "def build_ngram(data, n):\n",
        "    '''\n",
        "    Parameters:\n",
        "    data (list of lists): each list is a sentence of the text \n",
        "    n (int): size of the n-gram\n",
        "    \n",
        "    Returns:\n",
        "    prob (dictionary of dictionary)\n",
        "    {\n",
        "        context: {word:probability of this word given context}\n",
        "    }\n",
        "    '''\n",
        "    total_number_words = 0\n",
        "    counts = defaultdict(lambda: defaultdict(lambda: 0.0))\n",
        "\n",
        "    seq_prev_counts=defaultdict(lambda: defaultdict(lambda: 0.0))\n",
        "    \n",
        "    for sentence in data:\n",
        "        sentence = tuple(sentence)\n",
        "        # print(sentence)\n",
        "\n",
        "        ## FILL CODE\n",
        "        # dict can be indexed by tuples\n",
        "        # store in the same dict all the ngrams\n",
        "        # by using the context as a key and the word as a value\n",
        "\n",
        "        for i in range(len(sentence)):\n",
        "          total_number_words +=1\n",
        "          for j in range(n):\n",
        "            if i-j >= 0:\n",
        "              counts[sentence[i-j:i]][sentence[i]] +=1\n",
        "\n",
        "\n",
        "    prob = defaultdict(lambda: defaultdict(lambda: 0.0))\n",
        "    # # Build the probabilities from the counts\n",
        "    # # Be careful with how you normalize!\n",
        "\n",
        "    for context in counts.keys():\n",
        "    # # ## FILL CODE\n",
        "      denominator = 0\n",
        "      for word in counts[context].keys():\n",
        "          denominator += counts[context][word]\n",
        "      for word in counts[context].keys():\n",
        "          prob[context][word] = counts[context][word]/denominator \n",
        "\n",
        "    return prob"
      ],
      "metadata": {
        "id": "bbzhT2GSAN48"
      },
      "execution_count": 7,
      "outputs": []
    },
    {
      "cell_type": "code",
      "execution_count": 8,
      "metadata": {
        "id": "izr6MHFVtOQ8",
        "colab": {
          "base_uri": "https://localhost:8080/"
        },
        "outputId": "f2098787-ad5d-4b93-8fc0-4036e93f3f21"
      },
      "outputs": [
        {
          "output_type": "stream",
          "name": "stdout",
          "text": [
            "build ngram model with n =  2\n"
          ]
        }
      ],
      "source": [
        "# RUN TO BUILD NGRAM MODEL\n",
        "\n",
        "n = 2\n",
        "print(\"build ngram model with n = \", n)\n",
        "model = build_ngram(train_data, n)"
      ]
    },
    {
      "cell_type": "markdown",
      "metadata": {
        "id": "G_5LqRFAtOQ9"
      },
      "source": [
        "Here, implement a recursive function over shorter and shorter context to compute a \"stupid backoff model\". An interpolation model can also be implemented this way."
      ]
    },
    {
      "cell_type": "code",
      "execution_count": 9,
      "metadata": {
        "id": "V6Y7ySuGtOQ9"
      },
      "outputs": [],
      "source": [
        "def get_prob(model, context, w):\n",
        "    '''\n",
        "    Parameters: \n",
        "    model (dictionary of dictionary)\n",
        "    {\n",
        "        context: {word:probability of this word given context}\n",
        "    } \n",
        "    context (list of strings): a sentence\n",
        "    w(string): the word we need to find it's probability given the context\n",
        "    \n",
        "    Retunrs:\n",
        "    prob(float): probability of this word given the context \n",
        "    '''\n",
        "\n",
        "    # code a recursive function over \n",
        "    # smaller and smaller context\n",
        "    # to compute the backoff model\n",
        "    \n",
        "    ## FILL CODE\n",
        "    if context in model:\n",
        "        if w in model[context]:\n",
        "          return model[context][w]\n",
        "        else:\n",
        "           return 0.4*get_prob(model,context[1:],w)\n",
        "    else:\n",
        "          return 0.4*get_prob(model,context[1:],w)\n",
        "          "
      ]
    },
    {
      "cell_type": "code",
      "execution_count": 10,
      "metadata": {
        "id": "gQYIUlTPtOQ9"
      },
      "outputs": [],
      "source": [
        "def perplexity(model, data, n):\n",
        "    '''\n",
        "    Parameters: \n",
        "    model (dictionary of dictionary)\n",
        "    {\n",
        "        context: {word:probability of this word given context}\n",
        "    } \n",
        "    data (list of lists): each list is a sentence of the text\n",
        "    n(int): size of the n-gram\n",
        "    \n",
        "    Retunrs:\n",
        "    perp(float): the perplexity of the model \n",
        "    '''\n",
        "    ## FILL CODE\n",
        "    p, T =0.0, 0\n",
        "    for sentence in data:\n",
        "      sentence = tuple(sentence)\n",
        "      for i in range(1,len(sentence)):\n",
        "        if n-1<=i:\n",
        "          context=sentence[i-(n-1):i]\n",
        "          prob = get_prob(model, context, sentence[i])\n",
        "          p+= - np.log(prob)\n",
        "          T+=1\n",
        "\n",
        "    perp = np.exp(p/T)\n",
        "\n",
        "    return perp"
      ]
    },
    {
      "cell_type": "code",
      "execution_count": 11,
      "metadata": {
        "id": "lOLnkMOotOQ9",
        "colab": {
          "base_uri": "https://localhost:8080/"
        },
        "outputId": "5f71854b-1b15-494e-88ca-a61f52bd3a20"
      },
      "outputs": [
        {
          "output_type": "stream",
          "name": "stdout",
          "text": [
            "The perplexity is 68.72889287899149\n"
          ]
        }
      ],
      "source": [
        "# COMPUTE PERPLEXITY ON VALIDATION SET\n",
        "\n",
        "print(\"The perplexity is\", perplexity(model, valid_data, n=2))"
      ]
    },
    {
      "cell_type": "code",
      "execution_count": 12,
      "metadata": {
        "id": "itkfvjM4tOQ9"
      },
      "outputs": [],
      "source": [
        "def get_proba_distrib(model, context):\n",
        "    ## need to get the the words after the context and their probability of appearance\n",
        "    ## after this context \n",
        "    '''\n",
        "    Parameters: \n",
        "    model (dictionary of dictionary)\n",
        "    {\n",
        "        context: {word:probability of this word given context}\n",
        "    }\n",
        "    context (list of strings): the sentence we need to find the words after it and \n",
        "    thier probabilites\n",
        "    \n",
        "    Retunrs:\n",
        "    words_and_probs(dic): {word: probability of word given context}\n",
        "    \n",
        "    '''\n",
        "    # code a recursive function over context\n",
        "    # to find the longest available ngram\n",
        "    \n",
        "    ## FILL CODE\n",
        "    if context in model:\n",
        "        return model[context]\n",
        "    else:\n",
        "        return get_proba_distrib(model, context[1:])\n",
        "\n",
        "    # return None"
      ]
    },
    {
      "cell_type": "code",
      "execution_count": 13,
      "metadata": {
        "id": "Yf3K-xj6tOQ-"
      },
      "outputs": [],
      "source": [
        "def generate(model):\n",
        "    '''\n",
        "    Parameters: \n",
        "    model (dictionary of dictionary)\n",
        "    {\n",
        "        context: {word:probability of this word given context}\n",
        "    }\n",
        "    \n",
        "    Retunrs:\n",
        "    sentence (list of strings): a sentence sampled according to the language model. \n",
        "    \n",
        "\n",
        "    '''\n",
        "    # generate a sentence. A sentence starts with a <s> and ends with a </s>\n",
        "    # Possiblly a use function is:\n",
        "    # np.random.choice(x, 1, p = y)\n",
        "\n",
        "    # where x is a list of things to sample from\n",
        "    # and y is a list of probability (of the same length as x)\n",
        "    sentence = [\"<s>\"]\n",
        "    while sentence[-1] != \"</s>\" and len(sentence)<100:\n",
        "        ## FILL CODE\n",
        "        prob = get_proba_distrib(model, tuple(sentence))\n",
        "        word = np.random.choice((list(prob.keys())), 1, p = list(prob.values()))\n",
        "        sentence.append(word[0])\n",
        "    return sentence"
      ]
    },
    {
      "cell_type": "code",
      "execution_count": 197,
      "metadata": {
        "id": "ek8F3aUhtOQ-",
        "colab": {
          "base_uri": "https://localhost:8080/"
        },
        "outputId": "c4556a29-6c7f-464f-f87c-cdcacea2ee07"
      },
      "outputs": [
        {
          "output_type": "stream",
          "name": "stdout",
          "text": [
            "Generated sentence:  ['<s>', 'mary', 'caught', 'up', 'the', \"teacher's\", 'questions.', '</s>']\n"
          ]
        }
      ],
      "source": [
        "# GENERATE A SENTENCE FROM THE MODEL\n",
        "\n",
        "print(\"Generated sentence: \",generate(model))"
      ]
    },
    {
      "cell_type": "markdown",
      "metadata": {
        "id": "n3jLdG2mtOQ-"
      },
      "source": [
        "Once you are done implementing the model, evaluation and generation code, you can try changing the value of `n`, and play with a larger training set (`train2.txt` and `valid2.txt`). You can also try to implement an interpolation model."
      ]
    },
    {
      "cell_type": "markdown",
      "source": [
        "## Try with larger training set (train2.txt and valid2.txt)"
      ],
      "metadata": {
        "id": "gGlgJtm18-Bq"
      }
    },
    {
      "cell_type": "code",
      "execution_count": 14,
      "metadata": {
        "id": "v43rDoAltOQ-",
        "colab": {
          "base_uri": "https://localhost:8080/"
        },
        "outputId": "722c7546-6b8d-4a18-85ef-13e819f387db"
      },
      "outputs": [
        {
          "output_type": "stream",
          "name": "stdout",
          "text": [
            "load training set..\n",
            "\n",
            "\n",
            "['<s>', 'my', '<unk>', \"don't\", 'speak', '<unk>', '</s>']\n",
            "\n",
            "\n",
            "how : 3195\n",
            "load validation set\n"
          ]
        }
      ],
      "source": [
        "print(\"load training set..\")\n",
        "print(\"\\n\")\n",
        "train_data2, vocab2 = load_data(\"/content/drive/MyDrive/session3/train2.txt\")\n",
        "print(train_data[0])\n",
        "print(\"\\n\")\n",
        "print(\"how :\",vocab2['how'])\n",
        "print(\"load validation set\")\n",
        "valid_data2, _ = load_data(\"/content/drive/MyDrive/session3/valid2.txt\")\n"
      ]
    },
    {
      "cell_type": "code",
      "source": [
        "print(\"remove rare words\")\n",
        "train_data2 = remove_rare_words(train_data2, vocab2, mincount = 1)\n",
        "valid_data2 = remove_rare_words(valid_data2, vocab2, mincount = 1)\n",
        "# train_data\n",
        "print(train_data2[0])"
      ],
      "metadata": {
        "colab": {
          "base_uri": "https://localhost:8080/"
        },
        "id": "3_nxTFZr-CUZ",
        "outputId": "696c38be-cf5c-4c1c-8bc5-c58a287d122d"
      },
      "execution_count": 15,
      "outputs": [
        {
          "output_type": "stream",
          "name": "stdout",
          "text": [
            "remove rare words\n",
            "['<s>', 'i', 'liked', 'your', 'idea', 'and', 'adopted', 'it', '.', '</s>']\n"
          ]
        }
      ]
    },
    {
      "cell_type": "code",
      "source": [
        "# build n_grams\n",
        "n=2\n",
        "print(\"build ngram model with n = \", n)\n",
        "model2 = build_ngram(train_data2, n)"
      ],
      "metadata": {
        "colab": {
          "base_uri": "https://localhost:8080/"
        },
        "id": "dhDFEN8p9h37",
        "outputId": "a60c6384-9506-4cb8-c78c-08ceb1db2abb"
      },
      "execution_count": 16,
      "outputs": [
        {
          "output_type": "stream",
          "name": "stdout",
          "text": [
            "build ngram model with n =  2\n"
          ]
        }
      ]
    },
    {
      "cell_type": "code",
      "source": [
        "# COMPUTE PERPLEXITY ON VALIDATION SET\n",
        "\n",
        "print(\"The perplexity is\", perplexity(model2, valid_data2, n=2))"
      ],
      "metadata": {
        "colab": {
          "base_uri": "https://localhost:8080/"
        },
        "id": "O3GnldOB9041",
        "outputId": "ea92271f-187a-4d21-eab8-5582b6be7d38"
      },
      "execution_count": 17,
      "outputs": [
        {
          "output_type": "stream",
          "name": "stdout",
          "text": [
            "The perplexity is 57.223483144798955\n"
          ]
        }
      ]
    },
    {
      "cell_type": "markdown",
      "source": [
        "We notice that when using a larger training set, the perplexity reduced from 68.73 to 57.22. This means that the model becomes better when trying to predict a word given a context. This can be due to the fact that when training the model with more words the model has more information about the word."
      ],
      "metadata": {
        "id": "a163WKgN-mxT"
      }
    },
    {
      "cell_type": "markdown",
      "source": [
        "## Change the value of n to 4"
      ],
      "metadata": {
        "id": "QL_JR44s_vxI"
      }
    },
    {
      "cell_type": "code",
      "source": [
        "# build n_grams\n",
        "n=4\n",
        "print(\"build ngram model with n = \", n)\n",
        "model2 = build_ngram(train_data2, n)"
      ],
      "metadata": {
        "colab": {
          "base_uri": "https://localhost:8080/"
        },
        "id": "QARsVRvq-dv-",
        "outputId": "99ad2164-490b-4401-b173-57883a3493df"
      },
      "execution_count": 208,
      "outputs": [
        {
          "output_type": "stream",
          "name": "stdout",
          "text": [
            "build ngram model with n =  4\n"
          ]
        }
      ]
    },
    {
      "cell_type": "code",
      "source": [
        "# COMPUTE PERPLEXITY ON VALIDATION SET\n",
        "\n",
        "print(\"The perplexity is\", perplexity(model2, valid_data2, n=4))"
      ],
      "metadata": {
        "colab": {
          "base_uri": "https://localhost:8080/"
        },
        "id": "0ApZRnafAGCi",
        "outputId": "b6a114ab-b81b-4941-ffb4-d165c01b7e6a"
      },
      "execution_count": 209,
      "outputs": [
        {
          "output_type": "stream",
          "name": "stdout",
          "text": [
            "The perplexity is 53.58635810254969\n"
          ]
        }
      ]
    },
    {
      "cell_type": "markdown",
      "source": [
        "Here we observe that increasing the size of the past n from 2 to 4 reduce the perplexity which means a better predictions."
      ],
      "metadata": {
        "id": "vlVAVdXwAl-s"
      }
    }
  ],
  "metadata": {
    "kernelspec": {
      "display_name": "Python 3",
      "language": "python",
      "name": "python3"
    },
    "language_info": {
      "codemirror_mode": {
        "name": "ipython",
        "version": 3
      },
      "file_extension": ".py",
      "mimetype": "text/x-python",
      "name": "python",
      "nbconvert_exporter": "python",
      "pygments_lexer": "ipython3",
      "version": "3.6.2+"
    },
    "colab": {
      "name": "MEGNE_CHOUDJA_Pauline_Ornela_n_gram_models.ipynb",
      "provenance": [],
      "collapsed_sections": [],
      "include_colab_link": true
    },
    "accelerator": "GPU"
  },
  "nbformat": 4,
  "nbformat_minor": 0
}